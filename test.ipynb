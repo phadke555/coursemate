{
 "cells": [
  {
   "cell_type": "code",
   "execution_count": 1,
   "metadata": {},
   "outputs": [
    {
     "name": "stderr",
     "output_type": "stream",
     "text": [
      "/Users/rohan/Code/coursemate/.venv/lib/python3.9/site-packages/urllib3/__init__.py:35: NotOpenSSLWarning: urllib3 v2 only supports OpenSSL 1.1.1+, currently the 'ssl' module is compiled with 'LibreSSL 2.8.3'. See: https://github.com/urllib3/urllib3/issues/3020\n",
      "  warnings.warn(\n"
     ]
    }
   ],
   "source": [
    "from services.pinecone_service import search_index"
   ]
  },
  {
   "cell_type": "code",
   "execution_count": 10,
   "metadata": {},
   "outputs": [
    {
     "data": {
      "text/plain": [
       "{'results': [{'id': 'STOR 512',\n",
       "   'score': 0.7006900310516357,\n",
       "   'text': 'This is an upper-level course focusing on optimization aspects of common and practical problems and topics in statistical learning, machine learning, neural networks, and modern AI. It covers several topics such as optimization perspective of linear regression, nonlinear regression, matrix factorization, stochastic gradient descent, regularization techniques, neural networks, deep learning techniques, and minimax models.',\n",
       "   'category': 'STOR'},\n",
       "  {'id': 'STOR 415',\n",
       "   'score': 0.18097352981567383,\n",
       "   'text': 'Linear, integer, nonlinear, and dynamic programming, classical optimization problems, network theory.',\n",
       "   'category': 'STOR'},\n",
       "  {'id': 'STOR 113',\n",
       "   'score': 0.13106197118759155,\n",
       "   'text': 'An introduction to multivariable quantitative models in economics. Mathematical techniques for formulating and solving optimization and equilibrium problems will be developed, including elementary models under uncertainty.',\n",
       "   'category': 'STOR'},\n",
       "  {'id': 'STOR 235',\n",
       "   'score': 0.12549345195293427,\n",
       "   'text': 'This course introduces students to some of the key mathematical tools underlying algorithmic data science. The primary focus of the course is matrix algebra and multivariable calculus. The mathematical topics covered in the course will be motivated and connected by concrete applications in data science, with an emphasis on machine learning and optimization.',\n",
       "   'category': 'STOR'},\n",
       "  {'id': 'STOR 515',\n",
       "   'score': 0.002132261637598276,\n",
       "   'text': 'An introduction to algorithms and modeling techniques that use knowledge gained from prior experience to make intelligent decisions in real time. Topics include Markov decision processes, dynamic programming, multiplicative weights update, exploration vs. exploitation, multi-armed bandits, and two-player games.',\n",
       "   'category': 'STOR'}]}"
      ]
     },
     "execution_count": 10,
     "metadata": {},
     "output_type": "execute_result"
    }
   ],
   "source": [
    "search_index(\"Optimization\")"
   ]
  },
  {
   "cell_type": "code",
   "execution_count": 5,
   "metadata": {},
   "outputs": [
    {
     "name": "stdout",
     "output_type": "stream",
     "text": [
      "{'dimension': 1024,\n",
      " 'index_fullness': 0.0,\n",
      " 'metric': 'cosine',\n",
      " 'namespaces': {'unc-namespace': {'vector_count': 50}},\n",
      " 'total_vector_count': 50,\n",
      " 'vector_type': 'dense'}\n"
     ]
    }
   ],
   "source": [
    "from services.pinecone_service import dense_index\n",
    "\n",
    "stats = dense_index.describe_index_stats()\n",
    "print(stats)"
   ]
  },
  {
   "cell_type": "code",
   "execution_count": null,
   "metadata": {},
   "outputs": [],
   "source": []
  }
 ],
 "metadata": {
  "kernelspec": {
   "display_name": ".venv",
   "language": "python",
   "name": "python3"
  },
  "language_info": {
   "codemirror_mode": {
    "name": "ipython",
    "version": 3
   },
   "file_extension": ".py",
   "mimetype": "text/x-python",
   "name": "python",
   "nbconvert_exporter": "python",
   "pygments_lexer": "ipython3",
   "version": "3.9.6"
  },
  "orig_nbformat": 4
 },
 "nbformat": 4,
 "nbformat_minor": 2
}
